{
 "cells": [
  {
   "cell_type": "markdown",
   "id": "34cef588",
   "metadata": {},
   "source": [
    "Descripción del proyecto:\n",
    "\n",
    "La tienda online Ice vende videojuegos por todo el mundo. Las reseñas de usuarios y expertos, los géneros, las plataformas (por ejemplo, Xbox o PlayStation) y los datos históricos sobre las ventas de juegos están disponibles en fuentes abiertas. Identificaré patrones que determinen si un juego tiene éxito o no. Esto permitirá detectar proyectos prometedores y planificar campañas publicitarias.\n",
    "\n",
    "Los datos se remontan a 2016. Imaginemos que es diciembre de 2016 y estoy planeando una campaña para 2017.\n",
    "\n",
    "El dataset contiene una columna \"rating\" que almacena la clasificación ESRB de cada juego. El Entertainment Software Rating Board (la Junta de clasificación de software de entretenimiento) evalúa el contenido de un juego y asigna una clasificación de edad como Adolescente o Adulto."
   ]
  },
  {
   "cell_type": "markdown",
   "id": "16e2c09b",
   "metadata": {},
   "source": [
    "## Inicialización"
   ]
  },
  {
   "cell_type": "code",
   "execution_count": 1,
   "id": "9a2f8631-aaf1-4aee-8cdb-a3a598857152",
   "metadata": {},
   "outputs": [],
   "source": [
    "# cargar librerías\n",
    "\n",
    "from scipy import stats as st\n",
    "import pandas as pd\n",
    "from matplotlib import pyplot as plt\n",
    "import numpy as np\n",
    "import seaborn as sns\n",
    "import math"
   ]
  },
  {
   "cell_type": "markdown",
   "id": "8422131e",
   "metadata": {},
   "source": [
    "## Cargar datos"
   ]
  },
  {
   "cell_type": "code",
   "execution_count": 3,
   "id": "933b4044-bc78-4365-b2e0-326f75a5d740",
   "metadata": {},
   "outputs": [],
   "source": [
    "games = pd.read_csv(\"/datasets/games.csv\")"
   ]
  },
  {
   "cell_type": "markdown",
   "id": "e6b26630",
   "metadata": {},
   "source": [
    "## Analisis exploratorio y procesamiento de datos"
   ]
  },
  {
   "cell_type": "code",
   "execution_count": 4,
   "id": "f904b666",
   "metadata": {},
   "outputs": [
    {
     "data": {
      "text/html": [
       "<div>\n",
       "<style scoped>\n",
       "    .dataframe tbody tr th:only-of-type {\n",
       "        vertical-align: middle;\n",
       "    }\n",
       "\n",
       "    .dataframe tbody tr th {\n",
       "        vertical-align: top;\n",
       "    }\n",
       "\n",
       "    .dataframe thead th {\n",
       "        text-align: right;\n",
       "    }\n",
       "</style>\n",
       "<table border=\"1\" class=\"dataframe\">\n",
       "  <thead>\n",
       "    <tr style=\"text-align: right;\">\n",
       "      <th></th>\n",
       "      <th>Year_of_Release</th>\n",
       "      <th>NA_sales</th>\n",
       "      <th>EU_sales</th>\n",
       "      <th>JP_sales</th>\n",
       "      <th>Other_sales</th>\n",
       "      <th>Critic_Score</th>\n",
       "    </tr>\n",
       "  </thead>\n",
       "  <tbody>\n",
       "    <tr>\n",
       "      <th>count</th>\n",
       "      <td>16446.000000</td>\n",
       "      <td>16715.000000</td>\n",
       "      <td>16715.000000</td>\n",
       "      <td>16715.000000</td>\n",
       "      <td>16715.000000</td>\n",
       "      <td>8137.000000</td>\n",
       "    </tr>\n",
       "    <tr>\n",
       "      <th>mean</th>\n",
       "      <td>2006.484616</td>\n",
       "      <td>0.263377</td>\n",
       "      <td>0.145060</td>\n",
       "      <td>0.077617</td>\n",
       "      <td>0.047342</td>\n",
       "      <td>68.967679</td>\n",
       "    </tr>\n",
       "    <tr>\n",
       "      <th>std</th>\n",
       "      <td>5.877050</td>\n",
       "      <td>0.813604</td>\n",
       "      <td>0.503339</td>\n",
       "      <td>0.308853</td>\n",
       "      <td>0.186731</td>\n",
       "      <td>13.938165</td>\n",
       "    </tr>\n",
       "    <tr>\n",
       "      <th>min</th>\n",
       "      <td>1980.000000</td>\n",
       "      <td>0.000000</td>\n",
       "      <td>0.000000</td>\n",
       "      <td>0.000000</td>\n",
       "      <td>0.000000</td>\n",
       "      <td>13.000000</td>\n",
       "    </tr>\n",
       "    <tr>\n",
       "      <th>25%</th>\n",
       "      <td>2003.000000</td>\n",
       "      <td>0.000000</td>\n",
       "      <td>0.000000</td>\n",
       "      <td>0.000000</td>\n",
       "      <td>0.000000</td>\n",
       "      <td>60.000000</td>\n",
       "    </tr>\n",
       "    <tr>\n",
       "      <th>50%</th>\n",
       "      <td>2007.000000</td>\n",
       "      <td>0.080000</td>\n",
       "      <td>0.020000</td>\n",
       "      <td>0.000000</td>\n",
       "      <td>0.010000</td>\n",
       "      <td>71.000000</td>\n",
       "    </tr>\n",
       "    <tr>\n",
       "      <th>75%</th>\n",
       "      <td>2010.000000</td>\n",
       "      <td>0.240000</td>\n",
       "      <td>0.110000</td>\n",
       "      <td>0.040000</td>\n",
       "      <td>0.030000</td>\n",
       "      <td>79.000000</td>\n",
       "    </tr>\n",
       "    <tr>\n",
       "      <th>max</th>\n",
       "      <td>2016.000000</td>\n",
       "      <td>41.360000</td>\n",
       "      <td>28.960000</td>\n",
       "      <td>10.220000</td>\n",
       "      <td>10.570000</td>\n",
       "      <td>98.000000</td>\n",
       "    </tr>\n",
       "  </tbody>\n",
       "</table>\n",
       "</div>"
      ],
      "text/plain": [
       "       Year_of_Release      NA_sales      EU_sales      JP_sales  \\\n",
       "count     16446.000000  16715.000000  16715.000000  16715.000000   \n",
       "mean       2006.484616      0.263377      0.145060      0.077617   \n",
       "std           5.877050      0.813604      0.503339      0.308853   \n",
       "min        1980.000000      0.000000      0.000000      0.000000   \n",
       "25%        2003.000000      0.000000      0.000000      0.000000   \n",
       "50%        2007.000000      0.080000      0.020000      0.000000   \n",
       "75%        2010.000000      0.240000      0.110000      0.040000   \n",
       "max        2016.000000     41.360000     28.960000     10.220000   \n",
       "\n",
       "        Other_sales  Critic_Score  \n",
       "count  16715.000000   8137.000000  \n",
       "mean       0.047342     68.967679  \n",
       "std        0.186731     13.938165  \n",
       "min        0.000000     13.000000  \n",
       "25%        0.000000     60.000000  \n",
       "50%        0.010000     71.000000  \n",
       "75%        0.030000     79.000000  \n",
       "max       10.570000     98.000000  "
      ]
     },
     "execution_count": 4,
     "metadata": {},
     "output_type": "execute_result"
    }
   ],
   "source": [
    "games.describe()"
   ]
  },
  {
   "cell_type": "code",
   "execution_count": 5,
   "id": "0a1081db-51a0-4637-9710-3af1b8929478",
   "metadata": {},
   "outputs": [
    {
     "name": "stdout",
     "output_type": "stream",
     "text": [
      "Index(['name', 'platform', 'year_of_release', 'genre', 'na_sales', 'eu_sales',\n",
      "       'jp_sales', 'other_sales', 'critic_score', 'user_score', 'rating'],\n",
      "      dtype='object')\n"
     ]
    }
   ],
   "source": [
    "# creo un bucle for para cambiar los nombres de las columnas para evitar espacios y mayúsculas\n",
    "\n",
    "new_col_names = []\n",
    "\n",
    "for old_name in games.columns:\n",
    "    \n",
    "    name_stripped = old_name.strip()\n",
    "    \n",
    "    name_lowered = name_stripped.lower()\n",
    "    \n",
    "    new_col_names.append(name_lowered)\n",
    "games.columns = new_col_names\n",
    "print(games.columns)"
   ]
  },
  {
   "cell_type": "code",
   "execution_count": 6,
   "id": "cbde0904-28f4-42c9-bc47-ef91cc120b4c",
   "metadata": {},
   "outputs": [
    {
     "name": "stdout",
     "output_type": "stream",
     "text": [
      "<class 'pandas.core.frame.DataFrame'>\n",
      "RangeIndex: 16715 entries, 0 to 16714\n",
      "Data columns (total 11 columns):\n",
      " #   Column           Non-Null Count  Dtype  \n",
      "---  ------           --------------  -----  \n",
      " 0   name             16713 non-null  object \n",
      " 1   platform         16715 non-null  object \n",
      " 2   year_of_release  16446 non-null  float64\n",
      " 3   genre            16713 non-null  object \n",
      " 4   na_sales         16715 non-null  float64\n",
      " 5   eu_sales         16715 non-null  float64\n",
      " 6   jp_sales         16715 non-null  float64\n",
      " 7   other_sales      16715 non-null  float64\n",
      " 8   critic_score     8137 non-null   float64\n",
      " 9   user_score       10014 non-null  object \n",
      " 10  rating           9949 non-null   object \n",
      "dtypes: float64(6), object(5)\n",
      "memory usage: 1.4+ MB\n"
     ]
    }
   ],
   "source": [
    "games.info()"
   ]
  },
  {
   "cell_type": "code",
   "execution_count": 39,
   "id": "e1de6f41",
   "metadata": {},
   "outputs": [
    {
     "data": {
      "text/plain": [
       "name                  2\n",
       "platform              0\n",
       "year_of_release     269\n",
       "genre                 2\n",
       "na_sales              0\n",
       "eu_sales              0\n",
       "jp_sales              0\n",
       "other_sales           0\n",
       "critic_score       8578\n",
       "user_score         9125\n",
       "rating             6766\n",
       "total_sales           0\n",
       "dtype: int64"
      ]
     },
     "execution_count": 39,
     "metadata": {},
     "output_type": "execute_result"
    }
   ],
   "source": [
    "games.isna().sum()"
   ]
  },
  {
   "cell_type": "code",
   "execution_count": 7,
   "id": "dd51ee95-0be6-473f-9d81-77942c03fc20",
   "metadata": {},
   "outputs": [],
   "source": [
    "games['user_score'] = games['user_score'].replace('tbd', \"NaN\")\n",
    "games['user_score'] = pd.to_numeric(games['user_score'], errors='coerce')"
   ]
  },
  {
   "cell_type": "code",
   "execution_count": 8,
   "id": "5b89f75f-5049-421a-b992-16b898f3183f",
   "metadata": {},
   "outputs": [
    {
     "name": "stdout",
     "output_type": "stream",
     "text": [
      "                                name platform  year_of_release         genre  \\\n",
      "0                         Wii Sports      Wii           2006.0        Sports   \n",
      "1                  Super Mario Bros.      NES           1985.0      Platform   \n",
      "2                     Mario Kart Wii      Wii           2008.0        Racing   \n",
      "3                  Wii Sports Resort      Wii           2009.0        Sports   \n",
      "4           Pokemon Red/Pokemon Blue       GB           1996.0  Role-Playing   \n",
      "...                              ...      ...              ...           ...   \n",
      "16710  Samurai Warriors: Sanada Maru      PS3           2016.0        Action   \n",
      "16711               LMA Manager 2007     X360           2006.0        Sports   \n",
      "16712        Haitaka no Psychedelica      PSV           2016.0     Adventure   \n",
      "16713               Spirits & Spells      GBA           2003.0      Platform   \n",
      "16714            Winning Post 8 2016      PSV           2016.0    Simulation   \n",
      "\n",
      "       na_sales  eu_sales  jp_sales  other_sales  critic_score  user_score  \\\n",
      "0         41.36     28.96      3.77         8.45          76.0         8.0   \n",
      "1         29.08      3.58      6.81         0.77           NaN         NaN   \n",
      "2         15.68     12.76      3.79         3.29          82.0         8.3   \n",
      "3         15.61     10.93      3.28         2.95          80.0         8.0   \n",
      "4         11.27      8.89     10.22         1.00           NaN         NaN   \n",
      "...         ...       ...       ...          ...           ...         ...   \n",
      "16710      0.00      0.00      0.01         0.00           NaN         NaN   \n",
      "16711      0.00      0.01      0.00         0.00           NaN         NaN   \n",
      "16712      0.00      0.00      0.01         0.00           NaN         NaN   \n",
      "16713      0.01      0.00      0.00         0.00           NaN         NaN   \n",
      "16714      0.00      0.00      0.01         0.00           NaN         NaN   \n",
      "\n",
      "      rating  total_sales  \n",
      "0          E        82.54  \n",
      "1        NaN        40.24  \n",
      "2          E        35.52  \n",
      "3          E        32.77  \n",
      "4        NaN        31.38  \n",
      "...      ...          ...  \n",
      "16710    NaN         0.01  \n",
      "16711    NaN         0.01  \n",
      "16712    NaN         0.01  \n",
      "16713    NaN         0.01  \n",
      "16714    NaN         0.01  \n",
      "\n",
      "[16715 rows x 12 columns]\n"
     ]
    }
   ],
   "source": [
    "games['total_sales'] = games['na_sales'] + games['eu_sales'] + games['jp_sales'] + games['other_sales']\n",
    "print (games)"
   ]
  },
  {
   "cell_type": "markdown",
   "id": "2fbb1493-2a3f-43d3-862e-e83bffbc0d93",
   "metadata": {},
   "source": [
    "## Conclusiones de los valores ausentes"
   ]
  },
  {
   "cell_type": "markdown",
   "id": "2771fb90-bb93-4485-a956-82f2171b07b7",
   "metadata": {},
   "source": [
    "A mi parecer los valores ausentes se encuentran por diferentes razones, los del nombre por algún error al corregir datos o algo por el estilo dado que solo eran 2. En cuanto a los puntajes de la crítica y del usuario además del rating supongo que no le dieron tanta importancia a esa información o no hubo tan buena respuesta del público por lo que no se dio una calificación como tal. En el aspecto de los géneros probablemente por no haber encontrado alguno en donde encajara y finalmente los valores ausentes en el año de lanzamiento puede ser por no tener una fecha clara y dejarlo sin fecha.\n",
    "\n",
    "En el caso de el puntaje de usuario había una particularidad de 'tbd' en los datos que significa que aún no se determinaba dicho puntaje, esta información la cambié para usar los datos más adelante para graficar o analizarlos mejor."
   ]
  },
  {
   "cell_type": "code",
   "execution_count": 9,
   "id": "be4fe3be-9908-4823-84b3-756031a478d7",
   "metadata": {},
   "outputs": [
    {
     "name": "stdout",
     "output_type": "stream",
     "text": [
      "Los juegos del año 1980 al 2001 son: 488, los juegos del año 2002 al 2008 son: 9255 y los juegos del año 2009 en adelante son: 6703\n"
     ]
    }
   ],
   "source": [
    "oldgames = games[games['year_of_release'] < 1995]\n",
    "midgames = games[(games['year_of_release'] >= 1995) & (games['year_of_release'] < 2009)]\n",
    "newgames = games[games['year_of_release'] >= 2009]\n",
    "og = oldgames['year_of_release'].count()\n",
    "mg = midgames['year_of_release'].count()\n",
    "ng = newgames['year_of_release'].count()\n",
    "print (f'Los juegos del año 1980 al 2001 son: {og}, los juegos del año 2002 al 2008 son: {mg} y los juegos del año 2009 en adelante son: {ng}')"
   ]
  },
  {
   "cell_type": "code",
   "execution_count": 10,
   "id": "30877eb7-2038-4bbd-ada8-61c6a8a5f678",
   "metadata": {},
   "outputs": [
    {
     "data": {
      "text/plain": [
       "31"
      ]
     },
     "execution_count": 10,
     "metadata": {},
     "output_type": "execute_result"
    }
   ],
   "source": [
    "games['platform'].nunique()"
   ]
  },
  {
   "cell_type": "code",
   "execution_count": 11,
   "id": "6c64d9a9-f638-4737-b366-d0e865b3faae",
   "metadata": {},
   "outputs": [
    {
     "name": "stdout",
     "output_type": "stream",
     "text": [
      "year_of_release  1980.0  1981.0  1982.0  1983.0  1984.0  1985.0  1986.0  \\\n",
      "platform                                                                  \n",
      "2600              11.38   35.68   28.88    5.84    0.27    0.45    0.67   \n",
      "3DO                 NaN     NaN     NaN     NaN     NaN     NaN     NaN   \n",
      "DS                  NaN     NaN     NaN     NaN     NaN    0.02     NaN   \n",
      "GB                  NaN     NaN     NaN     NaN     NaN     NaN     NaN   \n",
      "GEN                 NaN     NaN     NaN     NaN     NaN     NaN     NaN   \n",
      "GG                  NaN     NaN     NaN     NaN     NaN     NaN     NaN   \n",
      "NES                 NaN     NaN     NaN   10.96   50.08   53.44   36.41   \n",
      "NG                  NaN     NaN     NaN     NaN     NaN     NaN     NaN   \n",
      "PC                  NaN     NaN     NaN     NaN     NaN    0.04     NaN   \n",
      "PS                  NaN     NaN     NaN     NaN     NaN     NaN     NaN   \n",
      "SAT                 NaN     NaN     NaN     NaN     NaN     NaN     NaN   \n",
      "SCD                 NaN     NaN     NaN     NaN     NaN     NaN     NaN   \n",
      "SNES                NaN     NaN     NaN     NaN     NaN     NaN     NaN   \n",
      "\n",
      "year_of_release  1987.0  1988.0  1989.0  1990.0  1991.0  1992.0  1993.0  \\\n",
      "platform                                                                  \n",
      "2600               1.94    0.74    0.63     NaN     NaN     NaN     NaN   \n",
      "3DO                 NaN     NaN     NaN     NaN     NaN     NaN     NaN   \n",
      "DS                  NaN     NaN     NaN     NaN     NaN     NaN     NaN   \n",
      "GB                  NaN    1.43   64.97    4.89    5.57   25.49     NaN   \n",
      "GEN                 NaN     NaN     NaN    2.60    4.33   12.64    3.07   \n",
      "GG                  NaN     NaN     NaN     NaN     NaN    0.04     NaN   \n",
      "NES               19.76   45.01    7.85   15.73    6.11    1.98    3.61   \n",
      "NG                  NaN     NaN     NaN     NaN     NaN     NaN    0.21   \n",
      "PC                  NaN    0.03     NaN     NaN     NaN    3.03     NaN   \n",
      "PS                  NaN     NaN     NaN     NaN     NaN     NaN     NaN   \n",
      "SAT                 NaN     NaN     NaN     NaN     NaN     NaN     NaN   \n",
      "SCD                 NaN     NaN     NaN     NaN     NaN     NaN    1.50   \n",
      "SNES                NaN     NaN     NaN   26.15   16.22   32.98   40.02   \n",
      "\n",
      "year_of_release  1994.0  \n",
      "platform                 \n",
      "2600                NaN  \n",
      "3DO                0.02  \n",
      "DS                  NaN  \n",
      "GB                12.18  \n",
      "GEN                8.13  \n",
      "GG                  NaN  \n",
      "NES                0.11  \n",
      "NG                 0.80  \n",
      "PC                12.87  \n",
      "PS                 6.03  \n",
      "SAT                3.65  \n",
      "SCD                0.36  \n",
      "SNES              35.08  \n"
     ]
    }
   ],
   "source": [
    "pivot_data1 = oldgames.pivot_table(index='platform',\n",
    "                            columns='year_of_release',\n",
    "                            values='total_sales',\n",
    "                            aggfunc='sum')\n",
    "print(pivot_data1)"
   ]
  },
  {
   "cell_type": "code",
   "execution_count": 12,
   "id": "f8c556f8-2a26-4ac7-a1eb-689abfcdd31f",
   "metadata": {},
   "outputs": [
    {
     "name": "stdout",
     "output_type": "stream",
     "text": [
      "year_of_release  1995.0  1996.0  1997.0  1998.0  1999.0  2000.0  2001.0  \\\n",
      "platform                                                                  \n",
      "3DO                0.08     NaN     NaN     NaN     NaN     NaN     NaN   \n",
      "DC                  NaN     NaN     NaN    3.38    5.16    5.99    1.07   \n",
      "DS                  NaN     NaN     NaN     NaN     NaN     NaN     NaN   \n",
      "GB                 3.60   36.03    6.37   26.90   38.00   19.76    9.24   \n",
      "GBA                 NaN     NaN     NaN     NaN     NaN    0.07   61.53   \n",
      "GC                  NaN     NaN     NaN     NaN     NaN     NaN   26.34   \n",
      "N64                 NaN   34.10   39.50   49.24   57.87   33.97    3.25   \n",
      "NG                 0.33    0.10     NaN     NaN     NaN     NaN     NaN   \n",
      "PC                 4.22   10.58   11.27    3.26    4.74    4.66    5.47   \n",
      "PCFX                NaN    0.03     NaN     NaN     NaN     NaN     NaN   \n",
      "PS                35.96   94.70  136.17  169.49  144.53   96.37   35.59   \n",
      "PS2                 NaN     NaN     NaN     NaN     NaN   39.17  166.43   \n",
      "PS3                 NaN     NaN     NaN     NaN     NaN     NaN     NaN   \n",
      "PSP                 NaN     NaN     NaN     NaN     NaN     NaN     NaN   \n",
      "SAT               11.57    7.69    6.77    3.82    0.09     NaN     NaN   \n",
      "SNES              32.20   15.92    0.99    0.22    0.26     NaN     NaN   \n",
      "TG16               0.16     NaN     NaN     NaN     NaN     NaN     NaN   \n",
      "WS                  NaN     NaN     NaN     NaN    0.46    0.68    0.28   \n",
      "Wii                 NaN     NaN     NaN     NaN     NaN     NaN     NaN   \n",
      "X360                NaN     NaN     NaN     NaN     NaN     NaN     NaN   \n",
      "XB                  NaN     NaN     NaN     NaN     NaN    0.99   22.26   \n",
      "\n",
      "year_of_release  2002.0  2003.0  2004.0  2005.0  2006.0  2007.0  2008.0  \n",
      "platform                                                                 \n",
      "3DO                 NaN     NaN     NaN     NaN     NaN     NaN     NaN  \n",
      "DC                 0.29     NaN     NaN     NaN     NaN    0.02    0.04  \n",
      "DS                  NaN     NaN   17.27  130.14  119.81  146.94  145.31  \n",
      "GB                  NaN     NaN     NaN     NaN     NaN     NaN     NaN  \n",
      "GBA               74.16   56.67   77.91   33.86    5.28    3.40     NaN  \n",
      "GC                51.81   50.61   28.82   27.62   11.26    0.27     NaN  \n",
      "N64                0.08     NaN     NaN     NaN     NaN     NaN     NaN  \n",
      "NG                  NaN     NaN     NaN     NaN     NaN     NaN     NaN  \n",
      "PC                 8.57    8.84   10.39    4.37    2.85    9.28   12.42  \n",
      "PCFX                NaN     NaN     NaN     NaN     NaN     NaN     NaN  \n",
      "PS                 6.67    2.07     NaN     NaN     NaN     NaN     NaN  \n",
      "PS2              205.38  184.31  211.81  160.66  103.42   75.99   53.90  \n",
      "PS3                 NaN     NaN     NaN     NaN   20.96   73.19  118.52  \n",
      "PSP                 NaN     NaN    7.06   43.84   55.32   46.93   34.55  \n",
      "SAT                 NaN     NaN     NaN     NaN     NaN     NaN     NaN  \n",
      "SNES                NaN     NaN     NaN     NaN     NaN     NaN     NaN  \n",
      "TG16                NaN     NaN     NaN     NaN     NaN     NaN     NaN  \n",
      "WS                  NaN     NaN     NaN     NaN     NaN     NaN     NaN  \n",
      "Wii                 NaN     NaN     NaN     NaN  137.15  152.77  171.32  \n",
      "X360                NaN     NaN     NaN    8.25   51.62   95.41  135.26  \n",
      "XB                48.01   55.04   65.42   49.08   10.04    0.55    0.18  \n"
     ]
    }
   ],
   "source": [
    "pivot_data2 = midgames.pivot_table(index='platform',\n",
    "                            columns='year_of_release',\n",
    "                            values='total_sales',\n",
    "                            aggfunc='sum')\n",
    "print(pivot_data2)"
   ]
  },
  {
   "cell_type": "code",
   "execution_count": 13,
   "id": "ad378a51-3784-4d82-af51-f879cf01171d",
   "metadata": {},
   "outputs": [
    {
     "name": "stdout",
     "output_type": "stream",
     "text": [
      "year_of_release  2009.0  2010.0  2011.0  2012.0  2013.0  2014.0  2015.0  \\\n",
      "platform                                                                  \n",
      "3DS                 NaN     NaN   63.20   51.36   56.57   43.76   27.78   \n",
      "DS               119.54   85.02   26.18   11.01    1.54     NaN     NaN   \n",
      "PC                16.91   24.28   35.03   23.22   12.38   13.28    8.52   \n",
      "PS2               26.40    5.64    0.45     NaN     NaN     NaN     NaN   \n",
      "PS3              130.93  142.17  156.78  107.36  113.25   47.76   16.82   \n",
      "PS4                 NaN     NaN     NaN     NaN   25.99  100.00  118.90   \n",
      "PSP               37.78   35.04   17.82    7.69    3.14    0.24    0.12   \n",
      "PSV                 NaN     NaN    4.63   16.19   10.59   11.90    6.25   \n",
      "Wii              206.97  127.95   59.65   21.71    8.59    3.75    1.14   \n",
      "WiiU                NaN     NaN     NaN   17.56   21.65   22.03   16.35   \n",
      "X360             120.29  170.03  143.84   99.74   88.58   34.74   11.96   \n",
      "XOne                NaN     NaN     NaN     NaN   18.96   54.07   60.14   \n",
      "\n",
      "year_of_release  2016.0  \n",
      "platform                 \n",
      "3DS               15.14  \n",
      "DS                  NaN  \n",
      "PC                 5.25  \n",
      "PS2                 NaN  \n",
      "PS3                3.60  \n",
      "PS4               69.25  \n",
      "PSP                 NaN  \n",
      "PSV                4.25  \n",
      "Wii                0.18  \n",
      "WiiU               4.60  \n",
      "X360               1.52  \n",
      "XOne              26.15  \n"
     ]
    }
   ],
   "source": [
    "pivot_data3 = newgames.pivot_table(index='platform',\n",
    "                            columns='year_of_release',\n",
    "                            values='total_sales',\n",
    "                            aggfunc='sum')\n",
    "print(pivot_data3)"
   ]
  },
  {
   "cell_type": "markdown",
   "id": "4e7ad0dc-b20b-4c71-9bf5-4c08b86a76bf",
   "metadata": {},
   "source": [
    "# ¿Cuanto tardan las plataformas antiguas en desaparecer y nuevas en aparecer?\n",
    "Las nuevas plataformas tardan entre 3 años o menos en aparecer cada que aparece una nueva, las plataformas antiguas varía mucho tardan entre 8 año a 12 años en desaparecer."
   ]
  },
  {
   "cell_type": "code",
   "execution_count": 14,
   "id": "e2cdef90-c6de-494f-a398-0b36ef047325",
   "metadata": {},
   "outputs": [
    {
     "data": {
      "text/plain": [
       "<AxesSubplot:xlabel='platform', ylabel='total sales'>"
      ]
     },
     "execution_count": 14,
     "metadata": {},
     "output_type": "execute_result"
    },
    {
     "data": {
      "image/png": "[encoded data removed]",
      "text/plain": [
       "<Figure size 1200x600 with 1 Axes>"
      ]
     },
     "metadata": {},
     "output_type": "display_data"
    }
   ],
   "source": [
    "distgames = newgames[newgames['year_of_release'] > 2013]\n",
    "pivot_data4 = distgames.pivot_table(index='platform',\n",
    "                            columns='year_of_release',\n",
    "                            values='total_sales',\n",
    "                            aggfunc='sum')\n",
    "\n",
    "pivot_data4.plot(kind= 'bar', ylabel= 'total sales', figsize=(12,6))"
   ]
  },
  {
   "cell_type": "markdown",
   "id": "0f866d83-490c-4b66-936a-ca3899cb8572",
   "metadata": {},
   "source": [
    "## ¿Qué plataformas son líderes en ventas? ¿Cuáles crecen y cuáles se reducen? Elige varias plataformas potencialmente rentables.\n",
    "\n",
    "Las plataformas líderes son PS4, XOne y 3DS. En general hubo una reducción en el año 2016, pero todos las demás plataformas se reducen. Creo que habrá que estudiar este caso particular para decir las plataformas en las cuales continuará siendo rentable, como el caso de la pc que a pesar de no tener muchas ventas es una plataforma que se mantiene activa."
   ]
  },
  {
   "cell_type": "code",
   "execution_count": 15,
   "id": "68fe70dc-a179-492d-8d8b-58c505cfd036",
   "metadata": {},
   "outputs": [
    {
     "data": {
      "text/plain": [
       "<AxesSubplot:xlabel='platform', ylabel='total_sales'>"
      ]
     },
     "execution_count": 15,
     "metadata": {},
     "output_type": "execute_result"
    },
    {
     "data": {
      "image/png": "[encoded data removed]",
      "text/plain": [
       "<Figure size 640x480 with 1 Axes>"
      ]
     },
     "metadata": {},
     "output_type": "display_data"
    }
   ],
   "source": [
    "sns.boxplot(x= 'platform', y= 'total_sales', hue= 'year_of_release', data= distgames)\n"
   ]
  },
  {
   "cell_type": "markdown",
   "id": "7e849a7e-3fb9-4ee3-842b-06b2c160b128",
   "metadata": {},
   "source": [
    "## Crea un diagrama de caja para las ventas globales de todos los juegos, desglosados por plataforma. ¿Son significativas las diferencias en las ventas? ¿Qué sucede con las ventas promedio en varias plataformas? Describe tus hallazgos.\n",
    "\n",
    "Al parecer son pocos los juegos que destacan en ventas que son los valores atípicos que se ven y por lo mismo suben los ventas promedio en varias plataformas."
   ]
  },
  {
   "cell_type": "code",
   "execution_count": 16,
   "id": "806535ce-09e2-4042-8902-0faad61fd980",
   "metadata": {},
   "outputs": [
    {
     "data": {
      "image/png": "[encoded data removed]",
      "text/plain": [
       "<Figure size 800x600 with 1 Axes>"
      ]
     },
     "metadata": {},
     "output_type": "display_data"
    }
   ],
   "source": [
    "distgames[distgames['platform']== 'PS4'].plot(x= 'total_sales', y= 'critic_score', kind= 'scatter', alpha= 0.36,  title= 'Critics score', figsize= [8,6], xlabel= \"Total sales\", ylabel= \"Score\")\n",
    "\n",
    "plt.show()"
   ]
  },
  {
   "cell_type": "code",
   "execution_count": 17,
   "id": "ecf50cf2-2599-41e9-aaf1-a6264d2857d1",
   "metadata": {},
   "outputs": [
    {
     "data": {
      "image/png": "[encoded data removed]",
      "text/plain": [
       "<Figure size 800x600 with 1 Axes>"
      ]
     },
     "metadata": {},
     "output_type": "display_data"
    }
   ],
   "source": [
    "distgames[distgames['platform']== 'PS4'].plot(x= 'total_sales', y= 'user_score', kind= 'scatter', alpha= 0.36,  title= 'Users score', figsize= [8,6], xlabel= \"Total sales\", ylabel= \"Score\")\n",
    "\n",
    "plt.show()"
   ]
  },
  {
   "cell_type": "code",
   "execution_count": 18,
   "id": "1471fedd-bbba-4f5f-980b-5db28e801e7b",
   "metadata": {},
   "outputs": [
    {
     "name": "stdout",
     "output_type": "stream",
     "text": [
      "La correlación de ventas y calificación de la crítica es: 0.32810508696636304, \n",
      "La correlación de ventas y calificación del usuario es: -0.013070305002484562\n"
     ]
    }
   ],
   "source": [
    "corr_cr = distgames['total_sales'].corr(distgames['critic_score'])\n",
    "corr_us = distgames['total_sales'].corr(distgames['user_score'])\n",
    "print (f'La correlación de ventas y calificación de la crítica es: {corr_cr}, \\nLa correlación de ventas y calificación del usuario es: {corr_us}')"
   ]
  },
  {
   "cell_type": "markdown",
   "id": "ed007e3e-9365-4534-b70f-6c5d8ecb3c3b",
   "metadata": {},
   "source": [
    "## Mira cómo las reseñas de usuarios y profesionales afectan las ventas de una plataforma popular (tu elección).\n",
    "\n",
    "Al tener una correlación positiva con la calificación de la crítica y las ventas puedo observar que basándose en la crítica por autoridad las ventas si tinen una correlación.\n",
    "En el caso de la calificación de los usuarios tiene una correlación negativa cercana a cero por lo tanto no influye mucho la opinión del usuario al momento de una compra, esto en mi punto personal, puedo pensar que es por la subjetividad con la que los seres humanos solemos dar nuestra opinión además de que muchos basan una mala experiencia personal para dar una terrible calificación y por el contrario al tener una buena experiencia no influye tanto en dar una calificación tan alta como sería la calificación baja por la mala experiencia.\n",
    "\n",
    "Teniendo en cuenta tus conclusiones compara las ventas de los mismos juegos en otras plataformas."
   ]
  },
  {
   "cell_type": "code",
   "execution_count": 19,
   "id": "37570bb5-13cb-47f3-b324-f4860da65add",
   "metadata": {},
   "outputs": [
    {
     "data": {
      "text/plain": [
       "Lego Batman 3: Beyond Gotham                             8\n",
       "LEGO Jurassic World                                      8\n",
       "LEGO The Hobbit                                          8\n",
       "The LEGO Movie Videogame                                 8\n",
       "FIFA 15                                                  8\n",
       "                                                        ..\n",
       "Yokai Watch 3                                            1\n",
       "TV Anime Idolm@ster: Cinderella Girls G4U! Pack Vol.1    1\n",
       "One Piece: Super Grand Battle! X                         1\n",
       "Card Fight!! Vanguard G: Stride to Victory!!             1\n",
       "My Hero Academia: Battle for All                         1\n",
       "Name: name, Length: 956, dtype: int64"
      ]
     },
     "execution_count": 19,
     "metadata": {},
     "output_type": "execute_result"
    }
   ],
   "source": [
    "distgames['name'].value_counts()"
   ]
  },
  {
   "cell_type": "code",
   "execution_count": 20,
   "id": "182930e4-1edf-4349-aba0-2b0623068ddd",
   "metadata": {},
   "outputs": [
    {
     "data": {
      "image/png": "[encoded data removed]",
      "text/plain": [
       "<Figure size 1200x600 with 1 Axes>"
      ]
     },
     "metadata": {},
     "output_type": "display_data"
    }
   ],
   "source": [
    "colores = {'The LEGO Movie Videogame': 'blue',\n",
    "           'LEGO The Hobbit': 'green',\n",
    "           'Lego Batman 3: Beyond Gotham': 'red',\n",
    "           'FIFA 15': 'orange'}\n",
    "\n",
    "lego = distgames[distgames['name'].isin(['The LEGO Movie Videogame', 'LEGO The Hobbit', 'Lego Batman 3: Beyond Gotham', 'FIFA 15'])]\n",
    "ax = lego.plot(kind='bar', x='platform', y='total_sales', legend=True, ylabel='Total Sales', figsize=(12,6), color=lego['name'].map(colores))\n",
    "\n",
    "handles = [plt.Rectangle((0,0),1,1, color=colores[label]) for label in colores]\n",
    "ax.legend(handles, colores.keys(), title='Games', bbox_to_anchor=(1, 1))\n",
    "\n",
    "plt.show()\n"
   ]
  },
  {
   "cell_type": "markdown",
   "id": "8a53d4d2-4261-4ac6-bfd1-8ba0e31e006d",
   "metadata": {},
   "source": [
    "## Echa un vistazo a la distribución general de los juegos por género. ¿Qué se puede decir de los géneros más rentables? ¿Puedes generalizar acerca de los géneros con ventas altas y bajas?\n",
    "\n",
    "Los géneros más rentables son acción y tiro, los menos rentables son rompecabezas y estrategia. En cuanto a los últimos años me atrevería a generalizar los géneros con ventas altas y bajas."
   ]
  },
  {
   "cell_type": "code",
   "execution_count": 21,
   "id": "f7b83cfb-2c5a-4f2b-a4d1-e89dab019c6f",
   "metadata": {},
   "outputs": [
    {
     "data": {
      "text/plain": [
       "<AxesSubplot:xlabel='genre', ylabel='total sales'>"
      ]
     },
     "execution_count": 21,
     "metadata": {},
     "output_type": "execute_result"
    },
    {
     "data": {
      "image/png": "[encoded data removed]",
      "text/plain": [
       "<Figure size 1200x600 with 1 Axes>"
      ]
     },
     "metadata": {},
     "output_type": "display_data"
    }
   ],
   "source": [
    "gen = distgames.groupby('genre')['total_sales'].sum()\n",
    "\n",
    "gen.plot(kind='bar', x='genre', y='total_sales', ylabel='total sales', figsize=(12,6))"
   ]
  },
  {
   "cell_type": "markdown",
   "id": "9b7a19ba-4ece-4e4d-9852-8505ad59fd75",
   "metadata": {},
   "source": [
    "## Crea un perfil de usuario para cada región\n",
    "\n",
    "Para cada región (NA, UE, JP) determina:\n",
    "\n",
    "Las cinco plataformas principales. Describe las variaciones en sus cuotas de mercado de una región a otra.\n",
    "Los cinco géneros principales. Explica la diferencia.\n",
    "Si las clasificaciones de ESRB afectan a las ventas en regiones individuales.\n",
    "\n",
    "De na a eu en ventas es poca la variación de cuotas entre ellas, pero jp sí varía mucho más.\n",
    "Viéndolo por separado me doy cuenta que en eu y na los géneros de tiro y acción son los principales, mientras que en jp son los juegos de roles y acción. Me imagino que la diferencia recae en que la sociedad de jp es una sociedad más reservada que busca expresarse por medio de los juegos de roles.\n",
    "Creo que sí afectan las clasificaciones en jp por ser una sociedad conservadora, pero en eu y na va más hacia que hay una inclinación por la violencia y los juegos de tiro que hace que la clasificación m sea la más comprada.  y por qué.\n"
   ]
  },
  {
   "cell_type": "code",
   "execution_count": 22,
   "id": "ad59f71b-a90c-47a3-a5e8-5ac353d304c8",
   "metadata": {},
   "outputs": [],
   "source": [
    "na = distgames[['name', 'platform', 'year_of_release', 'genre', 'na_sales', 'critic_score', 'user_score', 'rating']]\n",
    "eu = distgames[['name', 'platform', 'year_of_release', 'genre', 'eu_sales', 'critic_score', 'user_score', 'rating']]\n",
    "jp = distgames[['name', 'platform', 'year_of_release', 'genre', 'jp_sales', 'critic_score', 'user_score', 'rating']]"
   ]
  },
  {
   "cell_type": "code",
   "execution_count": 23,
   "id": "5e75d649-03a5-4009-87ba-3bc7c40199cf",
   "metadata": {},
   "outputs": [
    {
     "data": {
      "text/plain": [
       "platform\n",
       "PS4     98.61\n",
       "XOne    81.27\n",
       "X360    28.30\n",
       "3DS     22.64\n",
       "PS3     22.05\n",
       "Name: na_sales, dtype: float64"
      ]
     },
     "execution_count": 23,
     "metadata": {},
     "output_type": "execute_result"
    }
   ],
   "source": [
    "na_pl = na.groupby('platform')['na_sales'].sum()\n",
    "na_pl_sorted = na_pl.sort_values(ascending=False)\n",
    "na_pl_sorted.head()"
   ]
  },
  {
   "cell_type": "code",
   "execution_count": 24,
   "id": "e2322650-5e9f-41d8-83fe-728ecddd079b",
   "metadata": {},
   "outputs": [
    {
     "data": {
      "text/plain": [
       "platform\n",
       "PS4     130.04\n",
       "XOne     46.25\n",
       "PS3      25.54\n",
       "PC       17.97\n",
       "3DS      16.12\n",
       "Name: eu_sales, dtype: float64"
      ]
     },
     "execution_count": 24,
     "metadata": {},
     "output_type": "execute_result"
    }
   ],
   "source": [
    "eu_pl = eu.groupby('platform')['eu_sales'].sum()\n",
    "eu_pl_sorted = eu_pl.sort_values(ascending=False)\n",
    "eu_pl_sorted.head()"
   ]
  },
  {
   "cell_type": "code",
   "execution_count": 25,
   "id": "ab91fc0c-03a4-44dc-9745-4ec2b24a8bdc",
   "metadata": {},
   "outputs": [
    {
     "data": {
      "text/plain": [
       "platform\n",
       "3DS     44.24\n",
       "PS4     15.02\n",
       "PSV     14.54\n",
       "PS3     11.22\n",
       "WiiU     7.31\n",
       "Name: jp_sales, dtype: float64"
      ]
     },
     "execution_count": 25,
     "metadata": {},
     "output_type": "execute_result"
    }
   ],
   "source": [
    "jp_pl = jp.groupby('platform')['jp_sales'].sum()\n",
    "jp_pl_sorted = jp_pl.sort_values(ascending=False)\n",
    "jp_pl_sorted.head()"
   ]
  },
  {
   "cell_type": "code",
   "execution_count": 26,
   "id": "2d4a97f9-4e30-4308-beba-3156ed907864",
   "metadata": {},
   "outputs": [
    {
     "data": {
      "text/plain": [
       "252.87000000000023"
      ]
     },
     "execution_count": 26,
     "metadata": {},
     "output_type": "execute_result"
    }
   ],
   "source": [
    "na_pl_sorted[:5].sum()"
   ]
  },
  {
   "cell_type": "code",
   "execution_count": 27,
   "id": "1596ca7b-8a82-4f1a-8c65-a8644b8cef2a",
   "metadata": {},
   "outputs": [
    {
     "data": {
      "text/plain": [
       "235.9200000000002"
      ]
     },
     "execution_count": 27,
     "metadata": {},
     "output_type": "execute_result"
    }
   ],
   "source": [
    "eu_pl_sorted[:5].sum()"
   ]
  },
  {
   "cell_type": "code",
   "execution_count": 28,
   "id": "b37395ac-e0f2-4fef-94f1-543ba5cfd7ab",
   "metadata": {},
   "outputs": [
    {
     "data": {
      "text/plain": [
       "92.3299999999999"
      ]
     },
     "execution_count": 28,
     "metadata": {},
     "output_type": "execute_result"
    }
   ],
   "source": [
    "jp_pl_sorted[:5].sum()"
   ]
  },
  {
   "cell_type": "code",
   "execution_count": 29,
   "id": "0ea11cda-fad1-4e32-b138-91428a7e2562",
   "metadata": {},
   "outputs": [
    {
     "data": {
      "text/plain": [
       "genre\n",
       "Shooter         79.02\n",
       "Action          72.53\n",
       "Sports          46.13\n",
       "Role-Playing    33.47\n",
       "Misc            15.05\n",
       "Name: na_sales, dtype: float64"
      ]
     },
     "execution_count": 29,
     "metadata": {},
     "output_type": "execute_result"
    }
   ],
   "source": [
    "na_pl = na.groupby('genre')['na_sales'].sum()\n",
    "na_pl_sorted = na_pl.sort_values(ascending=False)\n",
    "na_pl_sorted.head()"
   ]
  },
  {
   "cell_type": "code",
   "execution_count": 30,
   "id": "14c0610c-7818-480b-a7ed-af87aa9917f5",
   "metadata": {},
   "outputs": [
    {
     "data": {
      "text/plain": [
       "genre\n",
       "Action          74.68\n",
       "Shooter         65.52\n",
       "Sports          45.73\n",
       "Role-Playing    28.17\n",
       "Racing          14.13\n",
       "Name: eu_sales, dtype: float64"
      ]
     },
     "execution_count": 30,
     "metadata": {},
     "output_type": "execute_result"
    }
   ],
   "source": [
    "eu_pl = eu.groupby('genre')['eu_sales'].sum()\n",
    "eu_pl_sorted = eu_pl.sort_values(ascending=False)\n",
    "eu_pl_sorted.head()"
   ]
  },
  {
   "cell_type": "code",
   "execution_count": 31,
   "id": "4c668add-7184-45d1-81ae-84352a1abf49",
   "metadata": {},
   "outputs": [
    {
     "data": {
      "text/plain": [
       "genre\n",
       "Role-Playing    31.16\n",
       "Action          29.58\n",
       "Fighting         6.37\n",
       "Misc             5.61\n",
       "Shooter          4.87\n",
       "Name: jp_sales, dtype: float64"
      ]
     },
     "execution_count": 31,
     "metadata": {},
     "output_type": "execute_result"
    }
   ],
   "source": [
    "jp_pl = jp.groupby('genre')['jp_sales'].sum()\n",
    "jp_pl_sorted = jp_pl.sort_values(ascending=False)\n",
    "jp_pl_sorted.head()"
   ]
  },
  {
   "cell_type": "code",
   "execution_count": 32,
   "id": "bfbf46cd-39b4-4db0-b35e-a70e2544e46e",
   "metadata": {},
   "outputs": [
    {
     "data": {
      "text/plain": [
       "rating\n",
       "M       96.42\n",
       "E       50.74\n",
       "T       38.95\n",
       "E10+    33.23\n",
       "Name: na_sales, dtype: float64"
      ]
     },
     "execution_count": 32,
     "metadata": {},
     "output_type": "execute_result"
    }
   ],
   "source": [
    "#Everyone, Mature, Teen, Ev+10years\n",
    "\n",
    "na_pl = na.groupby('rating')['na_sales'].sum()\n",
    "na_pl_sorted = na_pl.sort_values(ascending=False)\n",
    "na_pl_sorted.head()"
   ]
  },
  {
   "cell_type": "code",
   "execution_count": 33,
   "id": "d347c7e7-8bc3-4029-b707-0bdcb51e3da1",
   "metadata": {},
   "outputs": [
    {
     "data": {
      "text/plain": [
       "rating\n",
       "M       93.44\n",
       "E       58.06\n",
       "T       34.07\n",
       "E10+    26.16\n",
       "Name: eu_sales, dtype: float64"
      ]
     },
     "execution_count": 33,
     "metadata": {},
     "output_type": "execute_result"
    }
   ],
   "source": [
    "eu_pl = eu.groupby('rating')['eu_sales'].sum()\n",
    "eu_pl_sorted = eu_pl.sort_values(ascending=False)\n",
    "eu_pl_sorted.head()"
   ]
  },
  {
   "cell_type": "code",
   "execution_count": 34,
   "id": "e8b88212-bb97-48f0-bf0d-163e70301c27",
   "metadata": {},
   "outputs": [
    {
     "data": {
      "text/plain": [
       "rating\n",
       "T       14.78\n",
       "E        8.94\n",
       "M        8.01\n",
       "E10+     4.46\n",
       "Name: jp_sales, dtype: float64"
      ]
     },
     "execution_count": 34,
     "metadata": {},
     "output_type": "execute_result"
    }
   ],
   "source": [
    "jp_pl = jp.groupby('rating')['jp_sales'].sum()\n",
    "jp_pl_sorted = jp_pl.sort_values(ascending=False)\n",
    "jp_pl_sorted"
   ]
  },
  {
   "cell_type": "code",
   "execution_count": 35,
   "id": "5423d903-66de-412a-814f-b4ea458d756b",
   "metadata": {},
   "outputs": [
    {
     "data": {
      "text/html": [
       "<div>\n",
       "<style scoped>\n",
       "    .dataframe tbody tr th:only-of-type {\n",
       "        vertical-align: middle;\n",
       "    }\n",
       "\n",
       "    .dataframe tbody tr th {\n",
       "        vertical-align: top;\n",
       "    }\n",
       "\n",
       "    .dataframe thead th {\n",
       "        text-align: right;\n",
       "    }\n",
       "</style>\n",
       "<table border=\"1\" class=\"dataframe\">\n",
       "  <thead>\n",
       "    <tr style=\"text-align: right;\">\n",
       "      <th></th>\n",
       "      <th>name</th>\n",
       "      <th>platform</th>\n",
       "      <th>year_of_release</th>\n",
       "      <th>genre</th>\n",
       "      <th>na_sales</th>\n",
       "      <th>eu_sales</th>\n",
       "      <th>jp_sales</th>\n",
       "      <th>other_sales</th>\n",
       "      <th>critic_score</th>\n",
       "      <th>user_score</th>\n",
       "      <th>rating</th>\n",
       "      <th>total_sales</th>\n",
       "    </tr>\n",
       "  </thead>\n",
       "  <tbody>\n",
       "    <tr>\n",
       "      <th>31</th>\n",
       "      <td>Call of Duty: Black Ops 3</td>\n",
       "      <td>PS4</td>\n",
       "      <td>2015.0</td>\n",
       "      <td>Shooter</td>\n",
       "      <td>6.03</td>\n",
       "      <td>5.86</td>\n",
       "      <td>0.36</td>\n",
       "      <td>2.38</td>\n",
       "      <td>NaN</td>\n",
       "      <td>NaN</td>\n",
       "      <td>NaN</td>\n",
       "      <td>14.63</td>\n",
       "    </tr>\n",
       "    <tr>\n",
       "      <th>42</th>\n",
       "      <td>Grand Theft Auto V</td>\n",
       "      <td>PS4</td>\n",
       "      <td>2014.0</td>\n",
       "      <td>Action</td>\n",
       "      <td>3.96</td>\n",
       "      <td>6.31</td>\n",
       "      <td>0.38</td>\n",
       "      <td>1.97</td>\n",
       "      <td>97.0</td>\n",
       "      <td>8.3</td>\n",
       "      <td>M</td>\n",
       "      <td>12.62</td>\n",
       "    </tr>\n",
       "    <tr>\n",
       "      <th>47</th>\n",
       "      <td>Pokemon Omega Ruby/Pokemon Alpha Sapphire</td>\n",
       "      <td>3DS</td>\n",
       "      <td>2014.0</td>\n",
       "      <td>Role-Playing</td>\n",
       "      <td>4.35</td>\n",
       "      <td>3.49</td>\n",
       "      <td>3.10</td>\n",
       "      <td>0.74</td>\n",
       "      <td>NaN</td>\n",
       "      <td>NaN</td>\n",
       "      <td>NaN</td>\n",
       "      <td>11.68</td>\n",
       "    </tr>\n",
       "    <tr>\n",
       "      <th>77</th>\n",
       "      <td>FIFA 16</td>\n",
       "      <td>PS4</td>\n",
       "      <td>2015.0</td>\n",
       "      <td>Sports</td>\n",
       "      <td>1.12</td>\n",
       "      <td>6.12</td>\n",
       "      <td>0.06</td>\n",
       "      <td>1.28</td>\n",
       "      <td>82.0</td>\n",
       "      <td>4.3</td>\n",
       "      <td>E</td>\n",
       "      <td>8.58</td>\n",
       "    </tr>\n",
       "    <tr>\n",
       "      <th>87</th>\n",
       "      <td>Star Wars Battlefront (2015)</td>\n",
       "      <td>PS4</td>\n",
       "      <td>2015.0</td>\n",
       "      <td>Shooter</td>\n",
       "      <td>2.99</td>\n",
       "      <td>3.49</td>\n",
       "      <td>0.22</td>\n",
       "      <td>1.28</td>\n",
       "      <td>NaN</td>\n",
       "      <td>NaN</td>\n",
       "      <td>NaN</td>\n",
       "      <td>7.98</td>\n",
       "    </tr>\n",
       "    <tr>\n",
       "      <th>...</th>\n",
       "      <td>...</td>\n",
       "      <td>...</td>\n",
       "      <td>...</td>\n",
       "      <td>...</td>\n",
       "      <td>...</td>\n",
       "      <td>...</td>\n",
       "      <td>...</td>\n",
       "      <td>...</td>\n",
       "      <td>...</td>\n",
       "      <td>...</td>\n",
       "      <td>...</td>\n",
       "      <td>...</td>\n",
       "    </tr>\n",
       "    <tr>\n",
       "      <th>16703</th>\n",
       "      <td>Strawberry Nauts</td>\n",
       "      <td>PSV</td>\n",
       "      <td>2016.0</td>\n",
       "      <td>Adventure</td>\n",
       "      <td>0.00</td>\n",
       "      <td>0.00</td>\n",
       "      <td>0.01</td>\n",
       "      <td>0.00</td>\n",
       "      <td>NaN</td>\n",
       "      <td>NaN</td>\n",
       "      <td>NaN</td>\n",
       "      <td>0.01</td>\n",
       "    </tr>\n",
       "    <tr>\n",
       "      <th>16707</th>\n",
       "      <td>Aiyoku no Eustia</td>\n",
       "      <td>PSV</td>\n",
       "      <td>2014.0</td>\n",
       "      <td>Misc</td>\n",
       "      <td>0.00</td>\n",
       "      <td>0.00</td>\n",
       "      <td>0.01</td>\n",
       "      <td>0.00</td>\n",
       "      <td>NaN</td>\n",
       "      <td>NaN</td>\n",
       "      <td>NaN</td>\n",
       "      <td>0.01</td>\n",
       "    </tr>\n",
       "    <tr>\n",
       "      <th>16710</th>\n",
       "      <td>Samurai Warriors: Sanada Maru</td>\n",
       "      <td>PS3</td>\n",
       "      <td>2016.0</td>\n",
       "      <td>Action</td>\n",
       "      <td>0.00</td>\n",
       "      <td>0.00</td>\n",
       "      <td>0.01</td>\n",
       "      <td>0.00</td>\n",
       "      <td>NaN</td>\n",
       "      <td>NaN</td>\n",
       "      <td>NaN</td>\n",
       "      <td>0.01</td>\n",
       "    </tr>\n",
       "    <tr>\n",
       "      <th>16712</th>\n",
       "      <td>Haitaka no Psychedelica</td>\n",
       "      <td>PSV</td>\n",
       "      <td>2016.0</td>\n",
       "      <td>Adventure</td>\n",
       "      <td>0.00</td>\n",
       "      <td>0.00</td>\n",
       "      <td>0.01</td>\n",
       "      <td>0.00</td>\n",
       "      <td>NaN</td>\n",
       "      <td>NaN</td>\n",
       "      <td>NaN</td>\n",
       "      <td>0.01</td>\n",
       "    </tr>\n",
       "    <tr>\n",
       "      <th>16714</th>\n",
       "      <td>Winning Post 8 2016</td>\n",
       "      <td>PSV</td>\n",
       "      <td>2016.0</td>\n",
       "      <td>Simulation</td>\n",
       "      <td>0.00</td>\n",
       "      <td>0.00</td>\n",
       "      <td>0.01</td>\n",
       "      <td>0.00</td>\n",
       "      <td>NaN</td>\n",
       "      <td>NaN</td>\n",
       "      <td>NaN</td>\n",
       "      <td>0.01</td>\n",
       "    </tr>\n",
       "  </tbody>\n",
       "</table>\n",
       "<p>1689 rows × 12 columns</p>\n",
       "</div>"
      ],
      "text/plain": [
       "                                            name platform  year_of_release  \\\n",
       "31                     Call of Duty: Black Ops 3      PS4           2015.0   \n",
       "42                            Grand Theft Auto V      PS4           2014.0   \n",
       "47     Pokemon Omega Ruby/Pokemon Alpha Sapphire      3DS           2014.0   \n",
       "77                                       FIFA 16      PS4           2015.0   \n",
       "87                  Star Wars Battlefront (2015)      PS4           2015.0   \n",
       "...                                          ...      ...              ...   \n",
       "16703                           Strawberry Nauts      PSV           2016.0   \n",
       "16707                           Aiyoku no Eustia      PSV           2014.0   \n",
       "16710              Samurai Warriors: Sanada Maru      PS3           2016.0   \n",
       "16712                    Haitaka no Psychedelica      PSV           2016.0   \n",
       "16714                        Winning Post 8 2016      PSV           2016.0   \n",
       "\n",
       "              genre  na_sales  eu_sales  jp_sales  other_sales  critic_score  \\\n",
       "31          Shooter      6.03      5.86      0.36         2.38           NaN   \n",
       "42           Action      3.96      6.31      0.38         1.97          97.0   \n",
       "47     Role-Playing      4.35      3.49      3.10         0.74           NaN   \n",
       "77           Sports      1.12      6.12      0.06         1.28          82.0   \n",
       "87          Shooter      2.99      3.49      0.22         1.28           NaN   \n",
       "...             ...       ...       ...       ...          ...           ...   \n",
       "16703     Adventure      0.00      0.00      0.01         0.00           NaN   \n",
       "16707          Misc      0.00      0.00      0.01         0.00           NaN   \n",
       "16710        Action      0.00      0.00      0.01         0.00           NaN   \n",
       "16712     Adventure      0.00      0.00      0.01         0.00           NaN   \n",
       "16714    Simulation      0.00      0.00      0.01         0.00           NaN   \n",
       "\n",
       "       user_score rating  total_sales  \n",
       "31            NaN    NaN        14.63  \n",
       "42            8.3      M        12.62  \n",
       "47            NaN    NaN        11.68  \n",
       "77            4.3      E         8.58  \n",
       "87            NaN    NaN         7.98  \n",
       "...           ...    ...          ...  \n",
       "16703         NaN    NaN         0.01  \n",
       "16707         NaN    NaN         0.01  \n",
       "16710         NaN    NaN         0.01  \n",
       "16712         NaN    NaN         0.01  \n",
       "16714         NaN    NaN         0.01  \n",
       "\n",
       "[1689 rows x 12 columns]"
      ]
     },
     "execution_count": 35,
     "metadata": {},
     "output_type": "execute_result"
    }
   ],
   "source": [
    "distgames"
   ]
  },
  {
   "cell_type": "markdown",
   "id": "4019b2c4-4286-4e77-8431-f6cf03be1bb6",
   "metadata": {},
   "source": [
    "## Prueba las siguientes hipótesis:\n",
    "\n",
    "— Las calificaciones promedio de los usuarios para las plataformas Xbox One y PC son las mismas.\n",
    "\n",
    "— Las calificaciones promedio de los usuarios para los géneros de Acción y Deportes son diferentes.\n",
    "\n",
    "Establece tu mismo el valor de umbral alfa.\n",
    "\n",
    "Explica:\n",
    "\n",
    "— Cómo formulaste las hipótesis nula y alternativa.\n",
    "\n",
    "Las hipótesis nulas las formulé basándome en las premisas que se buscan comprobar que son si el promedio de los usuarios para las plataformas Xbox One y PC son las mismas y si el promedio de los usuarios para los géneros de Acción y Deportes son diferentes.\n",
    "\n",
    "Las hipótesis alternativas las formulé como lo contrario a las hipótesis nulas.\n",
    "\n",
    "— Qué criterio utilizaste para probar las hipótesis y por qué.\n",
    "\n",
    "\n",
    "Utilicé el ttest_ind porque son poblaciones independientes."
   ]
  },
  {
   "cell_type": "code",
   "execution_count": 36,
   "id": "9ecdb501-8874-45f9-8303-96243c756faf",
   "metadata": {},
   "outputs": [
    {
     "name": "stdout",
     "output_type": "stream",
     "text": [
      "LeveneResult(statistic=8.247858938786841, pvalue=0.004386298510089398)\n",
      "valor p: 0.11601398086668832\n",
      "No podemos rechazar la hipótesis nula\n"
     ]
    }
   ],
   "source": [
    "pc_plat = distgames[distgames['platform'] == 'PC']\n",
    "pc_pla = pc_plat['user_score'].dropna()\n",
    "xone_plat = distgames[distgames['platform'] == 'XOne']\n",
    "xone_pla = xone_plat['user_score'].dropna()\n",
    "\n",
    "\n",
    "\n",
    "alpha = 0.05 \n",
    "print(st.levene (pc_pla, xone_pla, center = 'mean'))\n",
    "\n",
    "results = st.ttest_ind(pc_pla, xone_pla, equal_var= False) \n",
    "print('valor p:', results.pvalue) \n",
    "\n",
    "if results.pvalue < alpha: \n",
    "    print(\"Rechazamos la hipótesis nula\")\n",
    "else:\n",
    "    print(\"No podemos rechazar la hipótesis nula\")"
   ]
  },
  {
   "cell_type": "code",
   "execution_count": 37,
   "id": "7dcd2554-a7de-4243-bd92-0e342fc30d6f",
   "metadata": {},
   "outputs": [
    {
     "data": {
      "text/plain": [
       "array(['PS4', '3DS', 'XOne', 'WiiU', 'PS3', 'X360', 'PC', 'Wii', 'PSV',\n",
       "       'PSP'], dtype=object)"
      ]
     },
     "execution_count": 37,
     "metadata": {},
     "output_type": "execute_result"
    }
   ],
   "source": [
    "distgames['platform'].unique()"
   ]
  },
  {
   "cell_type": "code",
   "execution_count": 38,
   "id": "8c8d3e04-5a86-4a33-bf52-b287b36de3c4",
   "metadata": {},
   "outputs": [
    {
     "name": "stdout",
     "output_type": "stream",
     "text": [
      "LeveneResult(statistic=25.153910151528862, pvalue=7.810758187558722e-07)\n",
      "valor p: 2.8711147985105864e-19\n",
      "Rechazamos la hipótesis nula\n"
     ]
    }
   ],
   "source": [
    "sp_gen = distgames[distgames['genre'] == 'Sports']\n",
    "sp_ge = sp_gen['user_score'].dropna()\n",
    "ac_gen = distgames[distgames['genre'] == 'Action']\n",
    "ac_ge = ac_gen['user_score'].dropna()\n",
    "\n",
    "alpha = 0.05 \n",
    "print(st.levene (sp_ge, ac_ge, center = 'mean'))\n",
    "results = st.ttest_ind(sp_ge, ac_ge, equal_var= True) \n",
    "print('valor p:', results.pvalue) \n",
    "\n",
    "if results.pvalue < alpha: \n",
    "    print(\"Rechazamos la hipótesis nula\")\n",
    "else:\n",
    "    print(\"No podemos rechazar la hipótesis nula\")"
   ]
  },
  {
   "cell_type": "markdown",
   "id": "c78141d5-8377-4c8c-b6e9-85264008d663",
   "metadata": {},
   "source": [
    "## Escribe una conclusión general\n",
    "\n",
    "\n",
    "En general haciendo estas búsquedas y visualizaciones puedo entender y así también explicar a mi cliente o empleador los resultados que se han obtenido en los últimos años y así enfocarse en aumentar las ventas además de hacer predicciones de lo que se pude generar en el año siguiente."
   ]
  },
  {
   "cell_type": "code",
   "execution_count": null,
   "id": "d946ed60-2b30-45aa-b642-dae6588d53e1",
   "metadata": {},
   "outputs": [],
   "source": []
  }
 ],
 "metadata": {
  "ExecuteTimeLog": [
   {
    "duration": 157,
    "start_time": "2024-10-14T04:39:52.023Z"
   },
   {
    "duration": 2520,
    "start_time": "2024-10-14T04:39:56.246Z"
   },
   {
    "duration": 377,
    "start_time": "2024-10-14T04:39:58.979Z"
   },
   {
    "duration": 819,
    "start_time": "2024-10-14T04:40:14.812Z"
   },
   {
    "duration": 571,
    "start_time": "2024-10-14T04:40:15.633Z"
   },
   {
    "duration": 0,
    "start_time": "2024-10-14T04:40:16.207Z"
   },
   {
    "duration": 0,
    "start_time": "2024-10-14T04:40:16.208Z"
   },
   {
    "duration": 0,
    "start_time": "2024-10-14T04:40:16.210Z"
   },
   {
    "duration": 0,
    "start_time": "2024-10-14T04:40:16.211Z"
   },
   {
    "duration": 0,
    "start_time": "2024-10-14T04:40:16.212Z"
   },
   {
    "duration": 0,
    "start_time": "2024-10-14T04:40:16.214Z"
   },
   {
    "duration": 0,
    "start_time": "2024-10-14T04:40:16.215Z"
   },
   {
    "duration": 0,
    "start_time": "2024-10-14T04:40:16.216Z"
   },
   {
    "duration": 1,
    "start_time": "2024-10-14T04:40:16.217Z"
   },
   {
    "duration": 0,
    "start_time": "2024-10-14T04:40:16.219Z"
   },
   {
    "duration": 0,
    "start_time": "2024-10-14T04:40:16.220Z"
   },
   {
    "duration": 0,
    "start_time": "2024-10-14T04:40:16.222Z"
   },
   {
    "duration": 0,
    "start_time": "2024-10-14T04:40:16.223Z"
   },
   {
    "duration": 0,
    "start_time": "2024-10-14T04:40:16.224Z"
   },
   {
    "duration": 0,
    "start_time": "2024-10-14T04:40:16.225Z"
   },
   {
    "duration": 0,
    "start_time": "2024-10-14T04:40:16.225Z"
   },
   {
    "duration": 0,
    "start_time": "2024-10-14T04:40:16.226Z"
   },
   {
    "duration": 0,
    "start_time": "2024-10-14T04:40:16.227Z"
   },
   {
    "duration": 0,
    "start_time": "2024-10-14T04:40:16.228Z"
   },
   {
    "duration": 0,
    "start_time": "2024-10-14T04:40:16.229Z"
   },
   {
    "duration": 0,
    "start_time": "2024-10-14T04:40:16.230Z"
   },
   {
    "duration": 0,
    "start_time": "2024-10-14T04:40:16.231Z"
   },
   {
    "duration": 0,
    "start_time": "2024-10-14T04:40:16.232Z"
   },
   {
    "duration": 0,
    "start_time": "2024-10-14T04:40:16.237Z"
   },
   {
    "duration": 0,
    "start_time": "2024-10-14T04:40:16.238Z"
   },
   {
    "duration": 0,
    "start_time": "2024-10-14T04:40:16.239Z"
   },
   {
    "duration": 0,
    "start_time": "2024-10-14T04:40:16.240Z"
   },
   {
    "duration": 0,
    "start_time": "2024-10-14T04:40:16.241Z"
   },
   {
    "duration": 0,
    "start_time": "2024-10-14T04:40:16.287Z"
   },
   {
    "duration": 0,
    "start_time": "2024-10-14T04:40:16.288Z"
   },
   {
    "duration": 0,
    "start_time": "2024-10-14T04:40:16.290Z"
   },
   {
    "duration": 0,
    "start_time": "2024-10-14T04:40:16.291Z"
   },
   {
    "duration": 0,
    "start_time": "2024-10-14T04:40:16.293Z"
   },
   {
    "duration": 0,
    "start_time": "2024-10-14T04:40:16.294Z"
   },
   {
    "duration": 0,
    "start_time": "2024-10-14T04:40:16.296Z"
   },
   {
    "duration": 41,
    "start_time": "2024-10-14T04:40:47.792Z"
   },
   {
    "duration": 23,
    "start_time": "2024-10-14T04:40:50.171Z"
   },
   {
    "duration": 4,
    "start_time": "2024-10-14T04:41:08.584Z"
   },
   {
    "duration": 12,
    "start_time": "2024-10-14T04:41:24.058Z"
   },
   {
    "duration": 8,
    "start_time": "2024-10-14T04:41:24.487Z"
   },
   {
    "duration": 20,
    "start_time": "2024-10-14T04:41:24.982Z"
   },
   {
    "duration": 7,
    "start_time": "2024-10-14T04:41:25.071Z"
   },
   {
    "duration": 6,
    "start_time": "2024-10-14T04:41:25.096Z"
   },
   {
    "duration": 20,
    "start_time": "2024-10-14T04:41:25.136Z"
   },
   {
    "duration": 16,
    "start_time": "2024-10-14T04:41:25.164Z"
   },
   {
    "duration": 18,
    "start_time": "2024-10-14T04:41:25.195Z"
   },
   {
    "duration": 200,
    "start_time": "2024-10-14T04:41:25.253Z"
   },
   {
    "duration": 366,
    "start_time": "2024-10-14T04:41:25.455Z"
   },
   {
    "duration": 213,
    "start_time": "2024-10-14T04:41:25.823Z"
   },
   {
    "duration": 134,
    "start_time": "2024-10-14T04:41:26.038Z"
   },
   {
    "duration": 12,
    "start_time": "2024-10-14T04:41:26.174Z"
   },
   {
    "duration": 5,
    "start_time": "2024-10-14T04:41:26.188Z"
   },
   {
    "duration": 281,
    "start_time": "2024-10-14T04:41:26.195Z"
   },
   {
    "duration": 165,
    "start_time": "2024-10-14T04:41:26.479Z"
   },
   {
    "duration": 5,
    "start_time": "2024-10-14T04:41:26.645Z"
   },
   {
    "duration": 7,
    "start_time": "2024-10-14T04:41:26.654Z"
   },
   {
    "duration": 7,
    "start_time": "2024-10-14T04:41:26.662Z"
   },
   {
    "duration": 6,
    "start_time": "2024-10-14T04:41:26.687Z"
   },
   {
    "duration": 4,
    "start_time": "2024-10-14T04:41:26.694Z"
   },
   {
    "duration": 3,
    "start_time": "2024-10-14T04:41:26.700Z"
   },
   {
    "duration": 3,
    "start_time": "2024-10-14T04:41:26.706Z"
   },
   {
    "duration": 7,
    "start_time": "2024-10-14T04:41:26.710Z"
   },
   {
    "duration": 5,
    "start_time": "2024-10-14T04:41:26.719Z"
   },
   {
    "duration": 7,
    "start_time": "2024-10-14T04:41:26.726Z"
   },
   {
    "duration": 8,
    "start_time": "2024-10-14T04:41:26.734Z"
   },
   {
    "duration": 42,
    "start_time": "2024-10-14T04:41:26.745Z"
   },
   {
    "duration": 5,
    "start_time": "2024-10-14T04:41:26.790Z"
   },
   {
    "duration": 19,
    "start_time": "2024-10-14T04:41:26.796Z"
   },
   {
    "duration": 6,
    "start_time": "2024-10-14T04:41:26.817Z"
   },
   {
    "duration": 3,
    "start_time": "2024-10-14T04:41:26.826Z"
   },
   {
    "duration": 7,
    "start_time": "2024-10-14T04:41:26.831Z"
   },
   {
    "duration": 8,
    "start_time": "2024-10-14T04:47:31.547Z"
   }
  ],
  "kernelspec": {
   "display_name": "Python 3 (ipykernel)",
   "language": "python",
   "name": "python3"
  },
  "language_info": {
   "codemirror_mode": {
    "name": "ipython",
    "version": 3
   },
   "file_extension": ".py",
   "mimetype": "text/x-python",
   "name": "python",
   "nbconvert_exporter": "python",
   "pygments_lexer": "ipython3",
   "version": "3.9.19"
  },
  "toc": {
   "base_numbering": 1,
   "nav_menu": {},
   "number_sections": true,
   "sideBar": true,
   "skip_h1_title": true,
   "title_cell": "Table of Contents",
   "title_sidebar": "Contents",
   "toc_cell": false,
   "toc_position": {},
   "toc_section_display": true,
   "toc_window_display": false
  }
 },
 "nbformat": 4,
 "nbformat_minor": 5
}
